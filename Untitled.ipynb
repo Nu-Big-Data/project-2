{
 "cells": [
  {
   "cell_type": "code",
   "execution_count": 1,
   "metadata": {},
   "outputs": [],
   "source": [
    "from pyspark.sql.types import *\n",
    "from pyspark.sql import SparkSession\n",
    "from pyspark.sql.functions import broadcast"
   ]
  },
  {
   "cell_type": "markdown",
   "metadata": {},
   "source": [
    "### Load account data"
   ]
  },
  {
   "cell_type": "code",
   "execution_count": 2,
   "metadata": {},
   "outputs": [],
   "source": [
    "sparkSession = SparkSession.builder.master(\"local\")\\\n",
    "                              .appName(\"project2\")\\\n",
    "                              .getOrCreate()\n",
    "            \n",
    "# Explicitly define the schema of the data\n",
    "schema = StructType([StructField(\"CDC_FLAG\", StringType(), True),\\\n",
    "                     StructField(\"CDC_DSN\", StringType(), True),\\\n",
    "                     StructField(\"CA_ID\", StringType(), True),\\\n",
    "                     StructField(\"CA_B_ID \", StringType(), True),\\\n",
    "                     StructField(\"CA_C_ID \", StringType(), True),\\\n",
    "                     StructField(\"CA_NAME\", StringType(), True),\\\n",
    "                     StructField(\"CA_TAX_ST\", StringType(), True),\\\n",
    "                     StructField(\"CA_ST_ID\", StringType(), True)])\n",
    "\n",
    "# Load account data\n",
    "account_df = sparkSession.read.format(\"csv\").option(\"delimiter\", \"|\")\\\n",
    "                           .schema(schema)\\\n",
    "                           .load(\"Dataset/Batch2/Account.txt\")"
   ]
  },
  {
   "cell_type": "code",
   "execution_count": 3,
   "metadata": {},
   "outputs": [
    {
     "name": "stdout",
     "output_type": "stream",
     "text": [
      "+--------+-------+-----+--------+--------+--------------------+---------+--------+\n",
      "|CDC_FLAG|CDC_DSN|CA_ID|CA_B_ID |CA_C_ID |             CA_NAME|CA_TAX_ST|CA_ST_ID|\n",
      "+--------+-------+-----+--------+--------+--------------------+---------+--------+\n",
      "|       I|  43490|30470|   16206|   15280|XkRcJWPVFFSGAtTGo...|        1|    ACTV|\n",
      "|       U|  43491|13857|   35351|    4996|kXUQTTuZHQsJsIDcB...|        1|    ACTV|\n",
      "|       U|  43492|26685|   23304|    2762|ruXPPxRMDLjswZZHv...|        1|    INAC|\n",
      "|       I|  43493|30471|   43026|   15281|arQHNWBBCOGMxvWqT...|        2|    ACTV|\n",
      "|       I|  43494|30472|    5711|   15282|DuQgzgldMMnEnh Fh...|        1|    ACTV|\n",
      "+--------+-------+-----+--------+--------+--------------------+---------+--------+\n",
      "only showing top 5 rows\n",
      "\n"
     ]
    }
   ],
   "source": [
    "account_df.show(5)"
   ]
  },
  {
   "cell_type": "markdown",
   "metadata": {},
   "source": [
    "### Load status table"
   ]
  },
  {
   "cell_type": "code",
   "execution_count": 4,
   "metadata": {},
   "outputs": [
    {
     "name": "stdout",
     "output_type": "stream",
     "text": [
      "+-----+---------+\n",
      "|ST_ID|  ST_NAME|\n",
      "+-----+---------+\n",
      "| ACTV|   Active|\n",
      "| CMPT|Completed|\n",
      "| CNCL| Canceled|\n",
      "| PNDG|  Pending|\n",
      "+-----+---------+\n",
      "only showing top 4 rows\n",
      "\n"
     ]
    }
   ],
   "source": [
    "# Explicitly define the schema of the data\n",
    "schema = StructType([StructField(\"ST_ID\", StringType(), True),\\\n",
    "                     StructField(\"ST_NAME\", StringType(), True)])\n",
    "# Load account data\n",
    "status_df = sparkSession.read.format(\"csv\").option(\"delimiter\", \"|\")\\\n",
    "                           .schema(schema)\\\n",
    "                           .load(\"Dataset/StatusType.txt\")\n",
    "\n",
    "status_df.show(4)"
   ]
  },
  {
   "cell_type": "markdown",
   "metadata": {},
   "source": [
    "#### Let's join Account table with status table."
   ]
  },
  {
   "cell_type": "code",
   "execution_count": 5,
   "metadata": {},
   "outputs": [],
   "source": [
    "account_with_status = account_df.join(\n",
    "                        broadcast(status_df), \n",
    "                        account_df.CA_ST_ID == status_df.ST_ID,   \n",
    "                        'inner'\n",
    "                  )\n",
    "\n"
   ]
  },
  {
   "cell_type": "code",
   "execution_count": 6,
   "metadata": {},
   "outputs": [
    {
     "name": "stdout",
     "output_type": "stream",
     "text": [
      "+--------+-------+-----+--------+--------+--------------------+---------+--------+-----+--------+\n",
      "|CDC_FLAG|CDC_DSN|CA_ID|CA_B_ID |CA_C_ID |             CA_NAME|CA_TAX_ST|CA_ST_ID|ST_ID| ST_NAME|\n",
      "+--------+-------+-----+--------+--------+--------------------+---------+--------+-----+--------+\n",
      "|       I|  43490|30470|   16206|   15280|XkRcJWPVFFSGAtTGo...|        1|    ACTV| ACTV|  Active|\n",
      "|       U|  43491|13857|   35351|    4996|kXUQTTuZHQsJsIDcB...|        1|    ACTV| ACTV|  Active|\n",
      "|       U|  43492|26685|   23304|    2762|ruXPPxRMDLjswZZHv...|        1|    INAC| INAC|Inactive|\n",
      "|       I|  43493|30471|   43026|   15281|arQHNWBBCOGMxvWqT...|        2|    ACTV| ACTV|  Active|\n",
      "|       I|  43494|30472|    5711|   15282|DuQgzgldMMnEnh Fh...|        1|    ACTV| ACTV|  Active|\n",
      "+--------+-------+-----+--------+--------+--------------------+---------+--------+-----+--------+\n",
      "only showing top 5 rows\n",
      "\n"
     ]
    }
   ],
   "source": [
    "account_with_status.show(5)"
   ]
  },
  {
   "cell_type": "markdown",
   "metadata": {},
   "source": [
    "### Load customer.xml file "
   ]
  },
  {
   "cell_type": "code",
   "execution_count": 7,
   "metadata": {},
   "outputs": [],
   "source": [
    "import xml.etree.ElementTree as ET\n",
    "from xml.dom import minidom\n",
    "import numpy as np"
   ]
  },
  {
   "cell_type": "code",
   "execution_count": 8,
   "metadata": {},
   "outputs": [],
   "source": [
    "# Get a generator of dict containing account data \n",
    "accounts_dict = ET.parse('Dataset/CustomerMgmt.xml').iter(\"Account\")"
   ]
  },
  {
   "cell_type": "code",
   "execution_count": 9,
   "metadata": {},
   "outputs": [],
   "source": [
    "ca_b_ids = []\n",
    "for x in accounts_dict:\n",
    "    ca_b_ids.append(x.attrib[\"CA_ID\"])"
   ]
  },
  {
   "cell_type": "code",
   "execution_count": 32,
   "metadata": {},
   "outputs": [],
   "source": [
    "xmldoc = minidom.parse('Dataset/CustomerMgmt.xml')\n",
    "itemlist = xmldoc.getElementsByTagName('TPCDI:Action')\n",
    "\n",
    "# Get actions types.\n",
    "action_types = []\n",
    "# Get surrogent keys of customers.\n",
    "ca_ids = []\n",
    "\n",
    "for item in itemlist:\n",
    "    action_type = item.attributes[\"ActionType\"].value\n",
    "    if action_type != \"INACT\" and item.getElementsByTagName(\"Account\"):\n",
    "        ca_ids.append(item.getElementsByTagName(\"Account\")[0].attributes[\"CA_ID\"].value)\n",
    "        action_types.append(action_type)\n",
    "   \n",
    "    "
   ]
  },
  {
   "cell_type": "code",
   "execution_count": null,
   "metadata": {},
   "outputs": [],
   "source": []
  },
  {
   "cell_type": "code",
   "execution_count": 40,
   "metadata": {},
   "outputs": [],
   "source": [
    "customer_data_array = np.vstack((ca_b_ids, action_types, ca_ids))"
   ]
  },
  {
   "cell_type": "code",
   "execution_count": 42,
   "metadata": {},
   "outputs": [
    {
     "data": {
      "text/plain": [
       "(43490, 3)"
      ]
     },
     "execution_count": 42,
     "metadata": {},
     "output_type": "execute_result"
    }
   ],
   "source": [
    "customer_data_array.reshape((-1, 3)).shape"
   ]
  },
  {
   "cell_type": "code",
   "execution_count": 34,
   "metadata": {},
   "outputs": [
    {
     "data": {
      "text/plain": [
       "43490"
      ]
     },
     "execution_count": 34,
     "metadata": {},
     "output_type": "execute_result"
    }
   ],
   "source": [
    "len(action_types)"
   ]
  },
  {
   "cell_type": "code",
   "execution_count": null,
   "metadata": {},
   "outputs": [],
   "source": []
  },
  {
   "cell_type": "code",
   "execution_count": null,
   "metadata": {},
   "outputs": [],
   "source": []
  },
  {
   "cell_type": "code",
   "execution_count": null,
   "metadata": {},
   "outputs": [],
   "source": []
  }
 ],
 "metadata": {
  "kernelspec": {
   "display_name": "Python 3",
   "language": "python",
   "name": "python3"
  },
  "language_info": {
   "codemirror_mode": {
    "name": "ipython",
    "version": 3
   },
   "file_extension": ".py",
   "mimetype": "text/x-python",
   "name": "python",
   "nbconvert_exporter": "python",
   "pygments_lexer": "ipython3",
   "version": "3.5.3"
  }
 },
 "nbformat": 4,
 "nbformat_minor": 4
}
